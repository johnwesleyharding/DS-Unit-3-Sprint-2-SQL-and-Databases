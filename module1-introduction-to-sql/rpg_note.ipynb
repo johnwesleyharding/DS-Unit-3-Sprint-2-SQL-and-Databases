{
 "cells": [
  {
   "cell_type": "code",
   "execution_count": 1,
   "metadata": {},
   "outputs": [],
   "source": [
    "import sqlite3"
   ]
  },
  {
   "cell_type": "code",
   "execution_count": 2,
   "metadata": {},
   "outputs": [],
   "source": [
    "def query(q, db = sqlite3.connect('rpg_db.sqlite3')):\n",
    "    cursor = db.cursor()\n",
    "    cursor.execute(q)\n",
    "    result = cursor.fetchall()\n",
    "    cursor.close()\n",
    "    db.commit()\n",
    "#     print(result)\n",
    "    return result"
   ]
  },
  {
   "cell_type": "code",
   "execution_count": 3,
   "metadata": {},
   "outputs": [
    {
     "name": "stdout",
     "output_type": "stream",
     "text": [
      "302 total characters.\n"
     ]
    }
   ],
   "source": [
    "# How many total Characters are there?\n",
    "q = \"\"\"\n",
    "SELECT COUNT(*)\n",
    "FROM charactercreator_character;\n",
    "\"\"\"\n",
    "resultc = query(q)\n",
    "print(f'{resultc[0][0]} total characters.')"
   ]
  },
  {
   "cell_type": "code",
   "execution_count": 4,
   "metadata": {},
   "outputs": [
    {
     "name": "stdout",
     "output_type": "stream",
     "text": [
      "68 fighters.\n"
     ]
    }
   ],
   "source": [
    "# How many of each specific subclass?\n",
    "q = \"\"\"\n",
    "SELECT COUNT(*)\n",
    "FROM charactercreator_fighter;\n",
    "\"\"\"\n",
    "result = query(q)\n",
    "print(f'{result[0][0]} fighters.')"
   ]
  },
  {
   "cell_type": "code",
   "execution_count": 5,
   "metadata": {},
   "outputs": [
    {
     "name": "stdout",
     "output_type": "stream",
     "text": [
      "75 clerics.\n"
     ]
    }
   ],
   "source": [
    "q = \"\"\"\n",
    "SELECT COUNT(*)\n",
    "FROM charactercreator_cleric;\n",
    "\"\"\"\n",
    "result = query(q)\n",
    "print(f'{result[0][0]} clerics.')"
   ]
  },
  {
   "cell_type": "code",
   "execution_count": 6,
   "metadata": {},
   "outputs": [
    {
     "name": "stdout",
     "output_type": "stream",
     "text": [
      "51 thieves.\n"
     ]
    }
   ],
   "source": [
    "q = \"\"\"\n",
    "SELECT COUNT(*)\n",
    "FROM charactercreator_thief;\n",
    "\"\"\"\n",
    "result = query(q)\n",
    "print(f'{result[0][0]} thieves.')"
   ]
  },
  {
   "cell_type": "code",
   "execution_count": 7,
   "metadata": {},
   "outputs": [
    {
     "name": "stdout",
     "output_type": "stream",
     "text": [
      "108 mages including 11 necromancers.\n"
     ]
    }
   ],
   "source": [
    "q = \"\"\"\n",
    "SELECT COUNT(*)\n",
    "FROM charactercreator_mage;\n",
    "\"\"\"\n",
    "result = query(q)\n",
    "\n",
    "q = \"\"\"\n",
    "SELECT COUNT(*)\n",
    "FROM charactercreator_necromancer;\n",
    "\"\"\"\n",
    "resultn = query(q)\n",
    "print(f'{result[0][0]} mages including {resultn[0][0]} necromancers.')"
   ]
  },
  {
   "cell_type": "code",
   "execution_count": 8,
   "metadata": {},
   "outputs": [
    {
     "name": "stdout",
     "output_type": "stream",
     "text": [
      "174 different items.\n"
     ]
    }
   ],
   "source": [
    "# How many total Items?\n",
    "q = \"\"\"\n",
    "SELECT COUNT(*)\n",
    "FROM armory_item;\n",
    "\"\"\"\n",
    "resulti = query(q)\n",
    "print(f'{resulti[0][0]} different items.')"
   ]
  },
  {
   "cell_type": "code",
   "execution_count": 9,
   "metadata": {},
   "outputs": [
    {
     "name": "stdout",
     "output_type": "stream",
     "text": [
      "37 weapons, 137 other items.\n"
     ]
    }
   ],
   "source": [
    "# How many of the Items are weapons? How many are not?\n",
    "q = \"\"\"\n",
    "SELECT COUNT(*)\n",
    "FROM armory_weapon;\n",
    "\"\"\"\n",
    "resultw = query(q)\n",
    "q = \"\"\"\n",
    "SELECT COUNT(*)\n",
    "FROM armory_item\n",
    "LEFT JOIN armory_weapon\n",
    "ON item_ptr_id = item_id\n",
    "WHERE power IS NULL\n",
    "\"\"\"\n",
    "result = query(q)\n",
    "print(f'{resultw[0][0]} weapons, {result[0][0]} other items.')"
   ]
  },
  {
   "cell_type": "code",
   "execution_count": 10,
   "metadata": {},
   "outputs": [
    {
     "name": "stdout",
     "output_type": "stream",
     "text": [
      "Ab voluptas se has 5 items.\n",
      "Acc has 5 items.\n",
      "Aliqu has 5 items.\n",
      "Aliquam n has 5 items.\n",
      "Amet quo fugit aliquam sequi has 5 items.\n",
      "Architecto i has 5 items.\n",
      "Asperi has 5 items.\n",
      "Atque aspernatur possi has 5 items.\n",
      "Autem eos voluptates off has 5 items.\n",
      "Autem mollitia fuga lauda has 5 items.\n",
      "Culpa repellat unde has 5 items.\n",
      "Cupidi has 5 items.\n",
      "Dicta enim debitis accusantiu has 5 items.\n",
      "Dolore magni has 5 items.\n",
      "Dolorem quaerat sunt has 5 items.\n",
      "Dolores aliquid inv has 5 items.\n",
      "Dolores ea velit mi has 5 items.\n",
      "Doloribus dolore r has 5 items.\n",
      "Duci has 5 items.\n",
      "Eaque at corpori has 5 items.\n"
     ]
    }
   ],
   "source": [
    "# How many Items does each character have? (Return first 20 rows)\n",
    "q = \"\"\"\n",
    "SELECT cc.character_id as ID, cc.name as person, count(ai.name) as items\n",
    "FROM charactercreator_character as cc,\n",
    "armory_item as ai, \n",
    "charactercreator_character_inventory as cci\n",
    "WHERE cc.character_id = cci.character_id \n",
    "AND ai.item_id = cci.item_id\n",
    "GROUP BY cc.character_id\n",
    "ORDER BY items DESC, person\n",
    "LIMIT 20;\n",
    "\"\"\"\n",
    "result = query(q)\n",
    "for i in range(len(result)):\n",
    "    print(f'{result[i][1]} has {result[i][2]} items.')"
   ]
  },
  {
   "cell_type": "code",
   "execution_count": 11,
   "metadata": {},
   "outputs": [
    {
     "name": "stdout",
     "output_type": "stream",
     "text": [
      "Ab voluptas se has 3 weapons.\n",
      "Dignissimos a has 3 weapons.\n",
      "Explicabo recusandae ma has 3 weapons.\n",
      "Illo en has 3 weapons.\n",
      "Perferendis commodi null has 3 weapons.\n",
      "Reprehenderit commodi eius has 3 weapons.\n",
      "Sint quibusdam ob has 3 weapons.\n",
      "Acc has 2 weapons.\n",
      "Aliqu has 2 weapons.\n",
      "Architecto repudian has 2 weapons.\n",
      "Asperi has 2 weapons.\n",
      "At id recusandae expl has 2 weapons.\n",
      "Autem mollitia fuga lauda has 2 weapons.\n",
      "Consequatur quis recusandae qu has 2 weapons.\n",
      "Culpa repellat unde has 2 weapons.\n",
      "Debit has 2 weapons.\n",
      "Debitis sit ratione eos nam has 2 weapons.\n",
      "Deleniti qui quae quidem has 2 weapons.\n",
      "Dolorem quaerat sunt has 2 weapons.\n",
      "Dolores aliquid inv has 2 weapons.\n"
     ]
    }
   ],
   "source": [
    "# How many Weapons does each character have? (Return first 20 rows)\n",
    "q = \"\"\"\n",
    "SELECT cc.character_id as ID, cc.name as person, count(aw.power) as weapons\n",
    "FROM charactercreator_character as cc, charactercreator_character_inventory as cci, armory_weapon as aw\n",
    "WHERE cc.character_id = cci.character_id AND aw.item_ptr_id = cci.item_id\n",
    "GROUP BY cc.character_id\n",
    "ORDER BY weapons DESC, person\n",
    "LIMIT 20;\n",
    "\"\"\"\n",
    "result = query(q)\n",
    "for i in range(len(result)):\n",
    "    print(f'{result[i][1]} has {result[i][2]} weapons.')"
   ]
  },
  {
   "cell_type": "code",
   "execution_count": 12,
   "metadata": {},
   "outputs": [
    {
     "name": "stdout",
     "output_type": "stream",
     "text": [
      "2.97 average items per character\n"
     ]
    }
   ],
   "source": [
    "# On average, how many Items does each Character have?\n",
    "q = \"\"\"\n",
    "SELECT AVG(ipc)\n",
    "FROM (\n",
    "    SELECT character_id, COUNT(item_id) as ipc\n",
    "    FROM charactercreator_character_inventory\n",
    "    GROUP BY character_id)\n",
    "\"\"\"\n",
    "result = query(q)\n",
    "print(f'{round(result[0][0], 2)} average items per character.')"
   ]
  },
  {
   "cell_type": "code",
   "execution_count": 13,
   "metadata": {},
   "outputs": [
    {
     "name": "stdout",
     "output_type": "stream",
     "text": [
      "0.67 average weapons per character\n"
     ]
    }
   ],
   "source": [
    "# On average, how many Weapons does each character have?\n",
    "q = \"\"\"\n",
    "SELECT AVG(wpc)\n",
    "FROM (\n",
    "    SELECT character_id, COUNT(item_ptr_id) as wpc\n",
    "    FROM charactercreator_character_inventory\n",
    "    LEFT JOIN armory_weapon\n",
    "    ON item_id = item_ptr_id\n",
    "    GROUP BY character_id)\n",
    "\"\"\"\n",
    "result = query(q)\n",
    "print(f'{round(result[0][0], 2)} average weapons per character.')"
   ]
  },
  {
   "cell_type": "code",
   "execution_count": 14,
   "metadata": {},
   "outputs": [
    {
     "name": "stdout",
     "output_type": "stream",
     "text": [
      "Where all the weapons have 0 power, all the mages have 1 intelligence, and all the clerics are below average.\n"
     ]
    }
   ],
   "source": [
    "print('Where all the weapons have 0 power, all the mages have 1 intelligence, and all the clerics are below average.')"
   ]
  }
 ],
 "metadata": {
  "kernelspec": {
   "display_name": "Python 3",
   "language": "python",
   "name": "python3"
  },
  "language_info": {
   "codemirror_mode": {
    "name": "ipython",
    "version": 3
   },
   "file_extension": ".py",
   "mimetype": "text/x-python",
   "name": "python",
   "nbconvert_exporter": "python",
   "pygments_lexer": "ipython3",
   "version": "3.7.4"
  }
 },
 "nbformat": 4,
 "nbformat_minor": 4
}
