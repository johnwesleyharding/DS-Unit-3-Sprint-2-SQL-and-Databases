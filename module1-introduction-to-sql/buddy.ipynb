{
 "cells": [
  {
   "cell_type": "code",
   "execution_count": 1,
   "metadata": {},
   "outputs": [],
   "source": [
    "import pandas as pd\n",
    "import sqlite3"
   ]
  },
  {
   "cell_type": "code",
   "execution_count": 2,
   "metadata": {},
   "outputs": [],
   "source": [
    "def query(q, db = sqlite3.connect('buddymove_holidayiq.sqlite3')):\n",
    "    cursor = db.cursor()\n",
    "    cursor.execute(q)\n",
    "    result = cursor.fetchall()\n",
    "    cursor.close()\n",
    "    db.commit()\n",
    "#     print(result)\n",
    "    return result"
   ]
  },
  {
   "cell_type": "code",
   "execution_count": 3,
   "metadata": {},
   "outputs": [],
   "source": [
    "# Open a connection to a new (blank) database file buddymove_holidayiq.sqlite3\n",
    "db = sqlite3.connect('buddymove_holidayiq.sqlite3')"
   ]
  },
  {
   "cell_type": "code",
   "execution_count": null,
   "metadata": {},
   "outputs": [],
   "source": [
    "# Use df.to_sql to insert the data into a new table in the SQLite3 database\n",
    "df = pd.read_csv('buddymove_holidayiq.csv')\n",
    "df.to_sql('review', db)"
   ]
  },
  {
   "cell_type": "code",
   "execution_count": 5,
   "metadata": {},
   "outputs": [
    {
     "name": "stdout",
     "output_type": "stream",
     "text": [
      "249 rows.\n"
     ]
    }
   ],
   "source": [
    "# Count how many rows you have - it should be 249!\n",
    "q = \"\"\"\n",
    "SELECT COUNT(*)\n",
    "FROM review;\n",
    "\"\"\"\n",
    "result = query(q)\n",
    "print(f'{result[0][0]} rows.')"
   ]
  },
  {
   "cell_type": "code",
   "execution_count": 6,
   "metadata": {},
   "outputs": [
    {
     "name": "stdout",
     "output_type": "stream",
     "text": [
      "78 users are interested in nature and shopping.\n"
     ]
    }
   ],
   "source": [
    "# How many users who reviewed at least 100 Nature in the category also reviewed at least 100 in the Shopping category?\n",
    "q = \"\"\"\n",
    "SELECT COUNT(*)\n",
    "FROM review\n",
    "WHERE Nature >= 100 AND Shopping >= 100;\n",
    "\"\"\"\n",
    "result = query(q)\n",
    "print(f'{result[0][0]} users are interested in nature and shopping.')"
   ]
  },
  {
   "cell_type": "code",
   "execution_count": 7,
   "metadata": {},
   "outputs": [
    {
     "name": "stdout",
     "output_type": "stream",
     "text": [
      "Average interest in Sports: 12\n",
      "Average interest in Religious: 110\n",
      "Average interest in Nature: 125\n",
      "Average interest in Theatre: 116\n",
      "Average interest in Shopping: 113\n",
      "Average interest in Picnic: 120\n"
     ]
    }
   ],
   "source": [
    "# (Stretch) What are the average number of reviews for each category?\n",
    "for category in ['Sports', 'Religious', 'Nature', 'Theatre', 'Shopping', 'Picnic']:\n",
    "    q = f'SELECT AVG({category}) FROM review;'\n",
    "    result = query(q)\n",
    "    print(f'Average interest in {category}: {round(result[0][0])}')"
   ]
  },
  {
   "cell_type": "code",
   "execution_count": null,
   "metadata": {},
   "outputs": [],
   "source": []
  }
 ],
 "metadata": {
  "kernelspec": {
   "display_name": "Python 3",
   "language": "python",
   "name": "python3"
  },
  "language_info": {
   "codemirror_mode": {
    "name": "ipython",
    "version": 3
   },
   "file_extension": ".py",
   "mimetype": "text/x-python",
   "name": "python",
   "nbconvert_exporter": "python",
   "pygments_lexer": "ipython3",
   "version": "3.7.4"
  }
 },
 "nbformat": 4,
 "nbformat_minor": 4
}
